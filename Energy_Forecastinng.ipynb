%matplotlib inline 
import numpy as np
import pandas as pd
import matplotlib.pyplot as plt
from sklearn.linear_model import LinearRegression
data = pd.read_csv('Power-Networks-LCL.csv')
#display a dataframe
print("Type of data is:"+str(type(data)))
data.head()
df_elect = data[['LCLid','stdorToU','DateTime','KWh','Acorn','Acorn_grouped']]
print("Type is:"+str(type(df_elect)))
s=data[['LCLid']]
print(type(s))# dropping null value columns to avoid errors 
data.dropna(inplace = True) 
  
# new data frame with split value columns 
new = data["LCLid"].str.split(" ", n = 1, expand = True) 
  
# making separate first name column from new data frame 
data["LCLid"]= new[0] 
  
# making separate last name column from new data frame 
#data["LCLid"]= new[1] 
  
# Dropping old Name columns 
data.drop(columns =["LCLid"], inplace = True) 
  
# df display 

df1 = data.iloc[:, :72]
print(type(df1))

#if(LCLid =="")

elect_test = pd.DataFrame(data=df_elect, index=np.arange('MAC000002', 'MAC000036')).dropna()
XX_elect_test = elect_test.drop('electricity-kWh', axis = 1).reset_index().drop('index', axis = 1)
YY_elect_test = elect_test['electricity-kWh']
lr_elect = LinearRegression()
print ('coefficientss are')
pd.DataFrame(zip(XX_elect_train.columns, lr_elect.coef_), columns = ['elect_features', 'linearRegr_Coefficients'])
#Plot observed and Predicted electricity value 
fig = plt.figure(figsize=(15,7))
plt.scatter(XX_elect_test.index, YY_elect_test, label='Observed', color='k')
plt.plot(XX_elect_test.index, y_lr, label='Predicted', color='g')
plt.legend(loc='upper right')
#Plot Observed vs. Linear Regression predicted usage.
fig = plt.figure(figsize=(6,6))
plt.plot(YY_elect_test, YY_elect_test, c='k')
plt.scatter(YY_elect_test, y_lr, c='g')
plt.xlabel('Observed Elec. Usage (kWh)')
plt.ylabel("Predicted Elec. Usage (kWh): $\hat{Y}_i$")
plt.title("Energy vs Predicted Elec.: $Y_i$ vs $\hat{Y}_i$")
print ("The Linear Regression coefficients are")
pd.DataFrame(zip(XX_chilledw_train.columns, lr_chilledw.coef_), columns = ['chilledw_features', 'linearRegr_Coefficients'])
#Plot observed and predicted electricity value 
fig = plt.figure(figsize=(15,7))
plt.scatter(XX_chilledw_test.index, YY_chilledw_test, label='Observed', color='k')
plt.plot(XX_chilledw_test.index, y_lr, label='Predicted', color='r')
plt.legend(loc='upper right')
#Plot observed vs. Predicted usage.
fig = plt.figure(figsize=(6,6))
plt.plot(YY_chilledw_test, YY_chilledw_test, c='k')
#Plot observed and predicted electricity value 
y_lr = lr_steam.predict(XX_steam_test)
fig = plt.figure(figsize=(15,7))
plt.scatter(DateTime,KWh, label='Observed', color='k')
plt.plot(XX_steam_test.index, y_lr, label='Predicted', color='g')
plt.legend(loc='upper right')
def addHourlyTimeFeatures(df):
    df['hour'] = df.index.hour
    return df
hourlyElectricity = addHourlyTimeFeatures(hourlyElectricity)
df_hourlyelect = hourlyElectricity[['hour', 'electricity-kWh']]
lr_hourlyelect = LinearRegression()
pd.DataFrame(zip(DateTime,KWh), columns = ['hourlyelect_features', 'linearRegr_Coefficients'])
#Plot observed and Predicted electricity value 
fig = plt.figure(figsize=(25,7))
plt.scatter(DateTime,KWh, label='Observed', color='k')
plt.plot(XX_hourlyelect_test.index, y_hourlyelect_lr, label='Predicted', color='r')
plt.legend(loc='upper right')
#Plot Observed vs. Predicted usage.
fig = plt.figure(figsize=(6,6))
plt.plot(YY_hourlyelect_test, YY_hourlyelect_test, c='k')
plt.scatter(YY_hourlyelect_test, y_hourlyelect_lr, c='r')
plt.xlabel('Observed Elec. Usage (kWh)')
plt.ylabel("Predicted Elec. Usage (kWh): $\hat{Y}_i$")
plt.title("Energy vs Predicted Elec.: $Y_i$ vs $\hat{Y}_i$")'''